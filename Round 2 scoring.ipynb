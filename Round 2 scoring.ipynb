{
 "cells": [
  {
   "cell_type": "code",
   "execution_count": null,
   "metadata": {},
   "outputs": [],
   "source": [
    "import pandas as pd\n",
    "import numpy as np\n",
    "from scipy.sparse import csr_matrix"
   ]
  },
  {
   "cell_type": "code",
   "execution_count": null,
   "metadata": {},
   "outputs": [],
   "source": [
    "\"\"\"def MG_calculator(form, scores, options):\n",
    "        \n",
    "    details = form.iloc[:, : 5] # n x 4\n",
    "    MGR = np.array(form.iloc[:, 5 :]) # n x 6\n",
    "\n",
    "    m, n = form.shape\n",
    "    final_scores_list = []\n",
    "\n",
    "    #calculate main good scores\n",
    "\n",
    "    for i in range(m):\n",
    "        \n",
    "        detail = details.iloc[i]\n",
    "        response = responses_to_sparse_matrix(MGR, options)\n",
    "        print(f'response is {response}\\nscores is {scores}')\n",
    "        options_with_base_score = np.multiply(response, scores)\n",
    "        \n",
    "        final_score = np.sum(options_with_base_score)\n",
    "        \n",
    "        final_scores_list.append((detail.iloc[0], detail.iloc[1], detail.iloc[2], detail.iloc[3], detail.iloc[4], final_score))\n",
    "\n",
    "    MG_scores_df = pd.DataFrame(final_scores_list, columns=[\"Email address\", \"Team Name\", \"Team Leader\\'s Name\", \"Contact Number (Team Leader)\", \"Email Id (Team Leader)\", \"Final Score for CG\"])\n",
    "\n",
    "    return MG_scores_df\"\"\"\n",
    "\n",
    "def MG_calculator(form, scores, options):\n",
    "        \n",
    "    details = form.iloc[:, : 5] # n x 4\n",
    "    MGR = np.array(form.iloc[:, 5 :], dtype=str) # n x reamiming questions\n",
    "    \n",
    "    m, n = form.shape\n",
    "    final_scores_list = []\n",
    "\n",
    "    #calculate main good scores\n",
    "\n",
    "    for i in range(m):\n",
    "        \n",
    "        detail = details.iloc[i]\n",
    "        response = responses_to_sparse_matrix(MGR[i], options)\n",
    "\n",
    "        options_with_base_score = np.multiply(response, scores)\n",
    "        \n",
    "        final_score = np.sum(options_with_base_score)\n",
    "        \n",
    "        final_scores_list.append((detail.iloc[0], detail.iloc[1], detail.iloc[2], detail.iloc[3], detail.iloc[4], final_score))\n",
    "\n",
    "    MG_scores_df = pd.DataFrame(final_scores_list, columns=[\"Email Address\", \"Team Name\", \"Team Leader\\'s Name\", \"Contact Number (Team Leader)\", \"Email Id (Team Leader)\", \"Final Score for MG\"])\n",
    "\n",
    "    return MG_scores_df\n",
    "\n",
    "\n",
    "def responses_to_sparse_matrix(responses, options):\n",
    "    \n",
    "    num_questions = len(responses)\n",
    "    num_options = len(options)\n",
    "    \n",
    "    # Create an empty matrix of zeros\n",
    "    matrix = np.zeros((num_questions, num_options), dtype=int)\n",
    "    \n",
    "    # Fill in the matrix with 1s based on responses\n",
    "    for q_idx, response in enumerate(responses):\n",
    "        if response in options:\n",
    "            opt_idx = options.index(response)\n",
    "            matrix[q_idx, opt_idx] = 1\n",
    "    \n",
    "    # Convert to sparse format\n",
    "    sparse_matrix = csr_matrix(matrix)\n",
    "    return sparse_matrix.toarray()"
   ]
  },
  {
   "cell_type": "code",
   "execution_count": null,
   "metadata": {},
   "outputs": [],
   "source": [
    "# Load the scores file\n",
    "df = pd.read_csv()\n",
    "\n",
    "# Fill empty cells with 0\n",
    "df_filled = df.fillna(0)\n",
    "\n",
    "# Extract only numerical values (excluding the first column if it's text)\n",
    "r2_scores = df_filled.iloc[:, 1:].to_numpy(dtype=float)\n",
    "\n",
    "print(r2_scores)"
   ]
  },
  {
   "cell_type": "code",
   "execution_count": null,
   "metadata": {},
   "outputs": [],
   "source": [
    "options = ['PS', 'PC', 'Pool', 'Non Electronic Arcade', 'Table Tennis', 'Racing Sim', 'Electronic Arcade', 'VR']\n",
    "form = pd.read_excel()\n",
    "\n",
    "final_scores = MG_calculator(form, r2_scores, options)\n",
    "display(final_scores)"
   ]
  },
  {
   "cell_type": "code",
   "execution_count": null,
   "metadata": {},
   "outputs": [],
   "source": [
    "final_scores.to_excel()"
   ]
  },
  {
   "cell_type": "code",
   "execution_count": null,
   "metadata": {},
   "outputs": [],
   "source": []
  }
 ],
 "metadata": {
  "kernelspec": {
   "display_name": "base",
   "language": "python",
   "name": "python3"
  },
  "language_info": {
   "codemirror_mode": {
    "name": "ipython",
    "version": 3
   },
   "file_extension": ".py",
   "mimetype": "text/x-python",
   "name": "python",
   "nbconvert_exporter": "python",
   "pygments_lexer": "ipython3",
   "version": "3.12.7"
  }
 },
 "nbformat": 4,
 "nbformat_minor": 2
}

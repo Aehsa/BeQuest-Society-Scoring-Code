{
  "cells": [
    {
      "cell_type": "code",
      "execution_count": null,
      "metadata": {
        "id": "fxdpmHdnMgQA"
      },
      "outputs": [],
      "source": [
        "import pandas as pd\n",
        "import numpy as np\n",
        "\n",
        "# Score Matrix (Base Score + Harmony Score)\n",
        "scores = np.array(([[5,4,3,2,1], [5,4,3,2,1], [5,4,3,2,1], [5,4,3,2,1], [5,4,3,2,1], [5,4,3,2,1]], # main good\n",
        "                  [[5,4,3,2,1], [5,4,3,2,1], [5,4,3,2,1], [5,4,3,2,1], [5,4,3,2,1], [5,4,3,2,1]], # CG for MG 1\n",
        "                  [[5,4,3,2,1], [5,4,3,2,1], [5,4,3,2,1], [5,4,3,2,1], [5,4,3,2,1], [5,4,3,2,1]], #cg for MG 2\n",
        "                  [[5,4,3,2,1], [5,4,3,2,1], [5,4,3,2,1], [5,4,3,2,1], [5,4,3,2,1], [5,4,3,2,1]], # cg for mg 3\n",
        "                  [[5,4,3,2,1], [5,4,3,2,1], [5,4,3,2,1], [5,4,3,2,1], [5,4,3,2,1], [5,4,3,2,1]], # cg for mg 4\n",
        "                  [[5,4,3,2,1], [5,4,3,2,1], [5,4,3,2,1], [5,4,3,2,1], [5,4,3,2,1], [5,4,3,2,1]])) #cg for mg 5"
      ]
    },
    {
      "cell_type": "code",
      "execution_count": null,
      "metadata": {
        "id": "rD9B0ccwTNCE"
      },
      "outputs": [],
      "source": [
        "class ScoreCalculator:\n",
        "    def __init__(self):\n",
        "        self.form_1_player_details = None\n",
        "        self.form_1_player_responses = None\n",
        "\n",
        "    def convert_data(self, path):\n",
        "        data = pd.read_csv(path)\n",
        "        player_detail_columns = [\"Team Leader\\'s Name\", \"Contact Number (Team Leader)\", \"Email Id (Team Leader)\", \"Final Score for MG\"]\n",
        "        player_details = data[player_detail_columns]\n",
        "        player_responses = data[data.drop(player_detail_columns, axis=1).columns]\n",
        "        return player_details, player_responses\n",
        "\n",
        "    def import_data(self, path):\n",
        "        self.form_1_player_details, self.form_1_player_responses = self.convert_data(path)\n",
        "\n",
        "    def MG_calculator(self, player_details, player_responses, MGR_column_names):\n",
        "\n",
        "      final_scores_list = []\n",
        "\n",
        "      MGR = player_responses[MGR_column_names]\n",
        "\n",
        "      for i in range(len(player_responses)):\n",
        "          detail = player_details.iloc[i]\n",
        "          response = player_responses.iloc[i]\n",
        "\n",
        "          n_questions = 6\n",
        "          n_options = 5\n",
        "\n",
        "          sparse_matrix = np.zeros((n_questions, n_options), dtype=int)\n",
        "          for idx, answer in enumerate(response):\n",
        "              if 1 <= answer <= n_options:\n",
        "                  sparse_matrix[idx, answer - 1] = 1\n",
        "              else:\n",
        "                  print(\"Error: Invalid response detected\")\n",
        "\n",
        "          options_with_base_score = np.multiply(sparse_matrix, self.scores[:, :, 0])\n",
        "          options_with_base_score_and_importance = options_with_base_score * self.spot_importance[:, np.newaxis]\n",
        "          final_score = np.sum(options_with_base_score_and_importance)\n",
        "\n",
        "          final_scores_list.append((detail.iloc[0], final_score))\n",
        "\n",
        "      scores_df = pd.DataFrame(final_scores_list, columns=[\"Team Name\", \"Team Leader Name\", \"Phone Number\", \"Final Score for CG\"])\n",
        "      return scores_df\n",
        "\n",
        "    def CG_calculator(self, player_details, player_responses, MGR_column_names, CGR_column_names):\n",
        "      final_scores_list = []\n",
        "      spot_importance = np.array([1, 1, 1, 1, 1, 1])\n",
        "\n",
        "      MGR = player_responses[MGR_column_names]\n",
        "      CGR = player_responses[CGR_column_names]\n",
        "\n",
        "      for i in range(len(CGR)):\n",
        "          detail = player_details.iloc[i]\n",
        "          CGR_i = CGR.iloc[i]\n",
        "          MGR_i = MGR.iloc[i]\n",
        "\n",
        "          sparse_matrix = np.zeros((6, 5), dtype=int)\n",
        "          for idx, answer in enumerate(CGR_i):\n",
        "              if 1 <= answer <= 5:\n",
        "                  sparse_matrix[idx, answer - 1] = 1\n",
        "              else:\n",
        "                  print(\"Error: Invalid response detected\")\n",
        "\n",
        "          for q in range(len(CGR_i)):\n",
        "              sparse_matrix[q, :] *= self.scores[q, :, MGR_i[q]]\n",
        "\n",
        "          sparse_matrix *= spot_importance[:, np.newaxis]\n",
        "          final_score = np.sum(sparse_matrix)\n",
        "\n",
        "          final_scores_list.append((detail.iloc[0], final_score))\n",
        "\n",
        "      CG_scores_df = pd.DataFrame(final_scores_list, columns=[\"Team Name\", \"Team Leader Name\", \"Phone Number\", \"Final Score for CG\"])\n",
        "      return CG_scores_df\n",
        "\n",
        "    def score_calculator(self, player_details, player_responses, MGR_column_names, CGR_column_names):\n",
        "\n",
        "        MG_scores = self.MG_calculator(player_details, player_responses, MGR_column_names)\n",
        "        CG_scores = self.CG_calculator(player_details, player_responses, MGR_column_names, CGR_column_names)\n",
        "\n",
        "        if not MG_scores[\"Team Name\"].equals(CG_scores[\"Team Name\"]):\n",
        "            raise ValueError(\"Player details do not match across MG and CG calculations\")\n",
        "\n",
        "        final_score = pd.concat([MG_scores, CG_scores], axis=1)\n",
        "        return final_score\n",
        "\n",
        "    def final_wala_calculator(self, MGR_column_names, CGR_column_names):\n",
        "\n",
        "        one = self.score_calculator(self.form_1_player_details, self.form_1_player_responses, MGR_column_names, CGR_column_names)\n",
        "        two = self.score_calculator(self.form_2_player_details, self.form_2_player_responses, MGR_column_names, CGR_column_names)\n",
        "        three = self.score_calculator(self.form_3_player_details, self.form_3_player_responses, MGR_column_names, CGR_column_names)\n",
        "\n",
        "        final_scores = pd.concat([one, two, three], axis=1)\n",
        "        return final_scores"
      ]
    },
    {
      "cell_type": "code",
      "execution_count": null,
      "metadata": {
        "id": "7Ezk7IQ6LX7R"
      },
      "outputs": [],
      "source": [
        "calculator = ScoreCalculator()"
      ]
    },
    {
      "cell_type": "code",
      "execution_count": null,
      "metadata": {
        "id": "vGwrDD_ULffc"
      },
      "outputs": [],
      "source": [
        "calculator.import_data(['/content/drive/MyDrive/bequest/form_1.csv', '/content/drive/MyDrive/bequest/form_2.csv', '/content/drive/MyDrive/bequest/form_3.csv'])"
      ]
    },
    {
      "cell_type": "code",
      "execution_count": null,
      "metadata": {
        "colab": {
          "base_uri": "https://localhost:8080/",
          "height": 547
        },
        "id": "LTuBVGono1pg",
        "outputId": "63fa5295-7b5e-4e22-b81c-d46168197849"
      },
      "outputs": [],
      "source": [
        "scores = calculator.final_wala_calculator(['Spot 1', 'Spot 2', 'Spot 3', 'Spot 4', 'Spot 5', 'Spot 6'], ['CG Spot 1',\n",
        "       'CG Spot 2', 'CG Spot 3', 'CG Spot 4', 'CG Spot 5', 'CG Spot 6'])"
      ]
    },
    {
      "cell_type": "code",
      "execution_count": null,
      "metadata": {
        "colab": {
          "base_uri": "https://localhost:8080/"
        },
        "id": "nudH5-CkqGBX",
        "outputId": "92ba8ba4-6e1e-4b91-de35-3b45ecd3c5d1"
      },
      "outputs": [],
      "source": [
        "calculator.form_1_player_responses.columns"
      ]
    },
    {
      "cell_type": "code",
      "execution_count": null,
      "metadata": {
        "id": "BfpZsMCiroDQ"
      },
      "outputs": [],
      "source": []
    }
  ],
  "metadata": {
    "colab": {
      "provenance": []
    },
    "kernelspec": {
      "display_name": "Python 3",
      "name": "python3"
    },
    "language_info": {
      "name": "python"
    }
  },
  "nbformat": 4,
  "nbformat_minor": 0
}
